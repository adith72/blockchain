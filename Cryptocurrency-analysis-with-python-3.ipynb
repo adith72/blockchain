{
 "cells": [
  {
   "cell_type": "markdown",
   "metadata": {},
   "source": [
    "# Cryptocurrency Analysis with Python - Log Returns\n",
    "\n",
    "In [previous post]({{site.url}}/cryptocurrency/analysis/2017/12/25/cryptocurrency-analysis-with-python-part2.html), we analyzed raw price changes of cryptocurrencies. The problem with that approach is that prices of different cryptocurrencies are not normalized and we cannot use comparable metrics. \n",
    "\n",
    "In this post, we describe benefits of using log returns for analysis of price changes. You can download this [Jupyter Notebook]({{site.url}}/assets/notebooks/2017-12-29-cryptocurrency-analysis-with-python-part3.ipynb) and the [data]({{site.url}}/assets/data/). \n",
    "\n",
    "Follow me on [twitter](https://twitter.com/romanorac) to get latest updates.\n",
    "\n",
    "![]({{site.url}}/assets/images/2017-12-29-cryptocurrency-analysis-with-python-part3/log_returns.png \"Bitcoin, Ethereum, and Litecoin Log returns\")"
   ]
  },
  {
   "cell_type": "markdown",
   "metadata": {},
   "source": [
    "## Disclaimer\n",
    "<span style=\"color:red\">\n",
    "**I am not a trader and this blog post is not a financial advice. This is purely introductory knowledge.\n",
    "The conclusion here can be misleading as \n",
    "I analyze the time period with immense growth. **\n",
    "</span>"
   ]
  },
  {
   "cell_type": "markdown",
   "metadata": {},
   "source": [
    "## Requirements\n",
    "\n",
    "- [SciPy - scientific and numerical tools for Python](https://www.scipy.org/)\n",
    "\n",
    "For other requirements, see my\n",
    "[first blog post]({{site.url}}/cryptocurrency/analysis/2017/12/17/cryptocurrency-analysis-with-python-part1.html)\n",
    "of this series."
   ]
  },
  {
   "cell_type": "markdown",
   "metadata": {},
   "source": [
    "## Load the data"
   ]
  },
  {
   "cell_type": "code",
   "execution_count": 1,
   "metadata": {},
   "outputs": [],
   "source": [
    "import pandas as pd\n",
    "\n",
    "df_btc = pd.read_csv('BTC_USD_Coinbase_hour_2017-12-24.csv', index_col='datetime')\n",
    "df_eth = pd.read_csv('ETH_USD_Coinbase_hour_2017-12-24.csv', index_col='datetime')\n",
    "df_ltc = pd.read_csv('LTC_USD_Coinbase_hour_2017-12-24.csv', index_col='datetime')"
   ]
  },
  {
   "cell_type": "code",
   "execution_count": 2,
   "metadata": {},
   "outputs": [],
   "source": [
    "df = pd.DataFrame({'BTC': df_btc.close,\n",
    "                   'ETH': df_eth.close,\n",
    "                   'LTC': df_ltc.close})\n",
    "df.index = df.index.map(pd.to_datetime)\n",
    "df = df.sort_index()"
   ]
  },
  {
   "cell_type": "code",
   "execution_count": 3,
   "metadata": {},
   "outputs": [
    {
     "data": {
      "text/html": [
       "<div>\n",
       "<style scoped>\n",
       "    .dataframe tbody tr th:only-of-type {\n",
       "        vertical-align: middle;\n",
       "    }\n",
       "\n",
       "    .dataframe tbody tr th {\n",
       "        vertical-align: top;\n",
       "    }\n",
       "\n",
       "    .dataframe thead th {\n",
       "        text-align: right;\n",
       "    }\n",
       "</style>\n",
       "<table border=\"1\" class=\"dataframe\">\n",
       "  <thead>\n",
       "    <tr style=\"text-align: right;\">\n",
       "      <th></th>\n",
       "      <th>BTC</th>\n",
       "      <th>ETH</th>\n",
       "      <th>LTC</th>\n",
       "    </tr>\n",
       "    <tr>\n",
       "      <th>datetime</th>\n",
       "      <th></th>\n",
       "      <th></th>\n",
       "      <th></th>\n",
       "    </tr>\n",
       "  </thead>\n",
       "  <tbody>\n",
       "    <tr>\n",
       "      <td>2017-10-02 08:00:00</td>\n",
       "      <td>4448.85</td>\n",
       "      <td>301.37</td>\n",
       "      <td>54.72</td>\n",
       "    </tr>\n",
       "    <tr>\n",
       "      <td>2017-10-02 09:00:00</td>\n",
       "      <td>4464.49</td>\n",
       "      <td>301.84</td>\n",
       "      <td>54.79</td>\n",
       "    </tr>\n",
       "    <tr>\n",
       "      <td>2017-10-02 10:00:00</td>\n",
       "      <td>4461.63</td>\n",
       "      <td>301.95</td>\n",
       "      <td>54.63</td>\n",
       "    </tr>\n",
       "    <tr>\n",
       "      <td>2017-10-02 11:00:00</td>\n",
       "      <td>4399.51</td>\n",
       "      <td>300.02</td>\n",
       "      <td>54.01</td>\n",
       "    </tr>\n",
       "    <tr>\n",
       "      <td>2017-10-02 12:00:00</td>\n",
       "      <td>4383.00</td>\n",
       "      <td>297.51</td>\n",
       "      <td>53.71</td>\n",
       "    </tr>\n",
       "  </tbody>\n",
       "</table>\n",
       "</div>"
      ],
      "text/plain": [
       "                         BTC     ETH    LTC\n",
       "datetime                                   \n",
       "2017-10-02 08:00:00  4448.85  301.37  54.72\n",
       "2017-10-02 09:00:00  4464.49  301.84  54.79\n",
       "2017-10-02 10:00:00  4461.63  301.95  54.63\n",
       "2017-10-02 11:00:00  4399.51  300.02  54.01\n",
       "2017-10-02 12:00:00  4383.00  297.51  53.71"
      ]
     },
     "execution_count": 3,
     "metadata": {},
     "output_type": "execute_result"
    }
   ],
   "source": [
    "df.head()"
   ]
  },
  {
   "cell_type": "code",
   "execution_count": 4,
   "metadata": {},
   "outputs": [
    {
     "data": {
      "text/html": [
       "<div>\n",
       "<style scoped>\n",
       "    .dataframe tbody tr th:only-of-type {\n",
       "        vertical-align: middle;\n",
       "    }\n",
       "\n",
       "    .dataframe tbody tr th {\n",
       "        vertical-align: top;\n",
       "    }\n",
       "\n",
       "    .dataframe thead th {\n",
       "        text-align: right;\n",
       "    }\n",
       "</style>\n",
       "<table border=\"1\" class=\"dataframe\">\n",
       "  <thead>\n",
       "    <tr style=\"text-align: right;\">\n",
       "      <th></th>\n",
       "      <th>BTC</th>\n",
       "      <th>ETH</th>\n",
       "      <th>LTC</th>\n",
       "    </tr>\n",
       "  </thead>\n",
       "  <tbody>\n",
       "    <tr>\n",
       "      <td>count</td>\n",
       "      <td>2001.000000</td>\n",
       "      <td>2001.000000</td>\n",
       "      <td>2001.000000</td>\n",
       "    </tr>\n",
       "    <tr>\n",
       "      <td>mean</td>\n",
       "      <td>9060.256122</td>\n",
       "      <td>407.263793</td>\n",
       "      <td>106.790100</td>\n",
       "    </tr>\n",
       "    <tr>\n",
       "      <td>std</td>\n",
       "      <td>4404.269591</td>\n",
       "      <td>149.480416</td>\n",
       "      <td>89.142241</td>\n",
       "    </tr>\n",
       "    <tr>\n",
       "      <td>min</td>\n",
       "      <td>4150.020000</td>\n",
       "      <td>277.810000</td>\n",
       "      <td>48.610000</td>\n",
       "    </tr>\n",
       "    <tr>\n",
       "      <td>25%</td>\n",
       "      <td>5751.020000</td>\n",
       "      <td>301.510000</td>\n",
       "      <td>55.580000</td>\n",
       "    </tr>\n",
       "    <tr>\n",
       "      <td>50%</td>\n",
       "      <td>7319.950000</td>\n",
       "      <td>330.800000</td>\n",
       "      <td>63.550000</td>\n",
       "    </tr>\n",
       "    <tr>\n",
       "      <td>75%</td>\n",
       "      <td>11305.000000</td>\n",
       "      <td>464.390000</td>\n",
       "      <td>100.050000</td>\n",
       "    </tr>\n",
       "    <tr>\n",
       "      <td>max</td>\n",
       "      <td>19847.110000</td>\n",
       "      <td>858.900000</td>\n",
       "      <td>378.660000</td>\n",
       "    </tr>\n",
       "  </tbody>\n",
       "</table>\n",
       "</div>"
      ],
      "text/plain": [
       "                BTC          ETH          LTC\n",
       "count   2001.000000  2001.000000  2001.000000\n",
       "mean    9060.256122   407.263793   106.790100\n",
       "std     4404.269591   149.480416    89.142241\n",
       "min     4150.020000   277.810000    48.610000\n",
       "25%     5751.020000   301.510000    55.580000\n",
       "50%     7319.950000   330.800000    63.550000\n",
       "75%    11305.000000   464.390000   100.050000\n",
       "max    19847.110000   858.900000   378.660000"
      ]
     },
     "execution_count": 4,
     "metadata": {},
     "output_type": "execute_result"
    }
   ],
   "source": [
    "df.describe()"
   ]
  },
  {
   "cell_type": "markdown",
   "metadata": {},
   "source": [
    "## Why Log Returns?\n",
    "\n",
    "Benefit of using returns, versus prices, is normalization: measuring all variables in a comparable metric, thus enabling evaluation of analytic relationships amongst two or more variables despite originating from price series of unequal values (for details, see [Why Log Returns](https://quantivity.wordpress.com/2011/02/21/why-log-returns/)).\n",
    "\n",
    "\n",
    "Let's define return as:\n",
    "\n",
    "$$\n",
    "r_{i} = \\frac{p_i - p_j}{p_j},\n",
    "$$\n",
    "where $r_i$ is return at time $i$, $p_i$ is the price at time $i$ and $j = i-1$.\n"
   ]
  },
  {
   "cell_type": "markdown",
   "metadata": {},
   "source": [
    "### Calculate Log Returns\n",
    "\n",
    "Author of [Why Log Returns](https://quantivity.wordpress.com/2011/02/21/why-log-returns/)\n",
    "outlines several benefits of using log returns instead of returns so we transform **returns** equation to **log returns** equation:\n",
    "\n",
    "$$\n",
    "r_{i} = \\frac{p_i - p_j}{p_j}\n",
    "$$\n",
    "\n",
    "$$\n",
    "r_i = \\frac{p_i}{p_j} - \\frac{p_j}{p_j}\n",
    "$$\n",
    "\n",
    "$$\n",
    "1 + r_i = \\frac{p_i}{p_j}\n",
    "$$\n",
    "\n",
    "\n",
    "$$\n",
    "log(1+r_i) = log(\\frac{p_i}{p_j})\n",
    "$$\n",
    "\n",
    "$$\n",
    "log(1+r_i) = log(p_i) - log(p_j)\n",
    "$$\n",
    "\n",
    "Now, we apply the log returns equation to closing prices of cryptocurrencies:"
   ]
  },
  {
   "cell_type": "code",
   "execution_count": 5,
   "metadata": {},
   "outputs": [],
   "source": [
    "import numpy as np\n",
    "\n",
    "# shift moves dates back by 1\n",
    "df_change = df.apply(lambda x: np.log(x) - np.log(x.shift(1))) "
   ]
  },
  {
   "cell_type": "code",
   "execution_count": 6,
   "metadata": {
    "scrolled": true
   },
   "outputs": [
    {
     "data": {
      "text/html": [
       "<div>\n",
       "<style scoped>\n",
       "    .dataframe tbody tr th:only-of-type {\n",
       "        vertical-align: middle;\n",
       "    }\n",
       "\n",
       "    .dataframe tbody tr th {\n",
       "        vertical-align: top;\n",
       "    }\n",
       "\n",
       "    .dataframe thead th {\n",
       "        text-align: right;\n",
       "    }\n",
       "</style>\n",
       "<table border=\"1\" class=\"dataframe\">\n",
       "  <thead>\n",
       "    <tr style=\"text-align: right;\">\n",
       "      <th></th>\n",
       "      <th>BTC</th>\n",
       "      <th>ETH</th>\n",
       "      <th>LTC</th>\n",
       "    </tr>\n",
       "    <tr>\n",
       "      <th>datetime</th>\n",
       "      <th></th>\n",
       "      <th></th>\n",
       "      <th></th>\n",
       "    </tr>\n",
       "  </thead>\n",
       "  <tbody>\n",
       "    <tr>\n",
       "      <td>2017-10-02 08:00:00</td>\n",
       "      <td>NaN</td>\n",
       "      <td>NaN</td>\n",
       "      <td>NaN</td>\n",
       "    </tr>\n",
       "    <tr>\n",
       "      <td>2017-10-02 09:00:00</td>\n",
       "      <td>0.003509</td>\n",
       "      <td>0.001558</td>\n",
       "      <td>0.001278</td>\n",
       "    </tr>\n",
       "    <tr>\n",
       "      <td>2017-10-02 10:00:00</td>\n",
       "      <td>-0.000641</td>\n",
       "      <td>0.000364</td>\n",
       "      <td>-0.002925</td>\n",
       "    </tr>\n",
       "    <tr>\n",
       "      <td>2017-10-02 11:00:00</td>\n",
       "      <td>-0.014021</td>\n",
       "      <td>-0.006412</td>\n",
       "      <td>-0.011414</td>\n",
       "    </tr>\n",
       "    <tr>\n",
       "      <td>2017-10-02 12:00:00</td>\n",
       "      <td>-0.003760</td>\n",
       "      <td>-0.008401</td>\n",
       "      <td>-0.005570</td>\n",
       "    </tr>\n",
       "  </tbody>\n",
       "</table>\n",
       "</div>"
      ],
      "text/plain": [
       "                          BTC       ETH       LTC\n",
       "datetime                                         \n",
       "2017-10-02 08:00:00       NaN       NaN       NaN\n",
       "2017-10-02 09:00:00  0.003509  0.001558  0.001278\n",
       "2017-10-02 10:00:00 -0.000641  0.000364 -0.002925\n",
       "2017-10-02 11:00:00 -0.014021 -0.006412 -0.011414\n",
       "2017-10-02 12:00:00 -0.003760 -0.008401 -0.005570"
      ]
     },
     "execution_count": 6,
     "metadata": {},
     "output_type": "execute_result"
    }
   ],
   "source": [
    "df_change.head()"
   ]
  },
  {
   "cell_type": "markdown",
   "metadata": {},
   "source": [
    "### Visualize Log Returns\n",
    "\n",
    "We plot normalized changes of closing prices for last 50 hours. Log differences can be interpreted as the percentage change."
   ]
  },
  {
   "cell_type": "code",
   "execution_count": 7,
   "metadata": {},
   "outputs": [
    {
     "data": {
      "text/plain": [
       "<matplotlib.lines.Line2D at 0x11c0b4898>"
      ]
     },
     "execution_count": 7,
     "metadata": {},
     "output_type": "execute_result"
    }
   ],
   "source": [
    "df_change[:50].plot(figsize=(15, 10)).axhline(color='black', linewidth=2)"
   ]
  },
  {
   "cell_type": "markdown",
   "metadata": {},
   "source": [
    "### Are LTC log returns normally distributed?\n",
    "\n",
    "On the chart below, we plot the distribution of LTC log returns.\n",
    "We also estimate parameters for normal distribution and plot estimated normal distribution with a red line."
   ]
  },
  {
   "cell_type": "code",
   "execution_count": 10,
   "metadata": {},
   "outputs": [
    {
     "name": "stderr",
     "output_type": "stream",
     "text": [
      "//anaconda3/lib/python3.7/site-packages/ipykernel_launcher.py:14: MatplotlibDeprecationWarning: \n",
      "The 'normed' kwarg was deprecated in Matplotlib 2.1 and will be removed in 3.1. Use 'density' instead.\n",
      "  \n"
     ]
    },
    {
     "data": {
      "text/plain": [
       "<matplotlib.legend.Legend at 0x11c7126a0>"
      ]
     },
     "execution_count": 10,
     "metadata": {},
     "output_type": "execute_result"
    },
    {
     "data": {
      "image/png": "[encoded data removed]",
      "text/plain": [
       "<Figure size 720x432 with 1 Axes>"
      ]
     },
     "metadata": {
      "needs_background": "light"
     },
     "output_type": "display_data"
    }
   ],
   "source": [
    "import pandas as pd\n",
    "import numpy as np\n",
    "import scipy.stats as stats\n",
    "import matplotlib.pyplot as plt\n",
    "\n",
    "values = df_change['LTC'][1:]  # skip first NA value\n",
    "x = np.linspace(values.min(), values.max(), len(values))\n",
    "\n",
    "loc, scale = stats.norm.fit(values)\n",
    "param_density = stats.norm.pdf(x, loc=loc, scale=scale)\n",
    "label = 'mean=%.4f, std=%.4f' % (loc, scale)\n",
    "\n",
    "fig, ax = plt.subplots(figsize=(10, 6))\n",
    "ax.hist(values, bins=30, normed=True)\n",
    "ax.plot(x, param_density, 'r-', label=label)\n",
    "ax.legend(loc='best')"
   ]
  },
  {
   "cell_type": "markdown",
   "metadata": {},
   "source": [
    "### Pearson Correlation with log returns\n",
    "\n",
    "We calculate Pearson Correlation from log returns.\n",
    "The correlation matrix below has similar values as the one at [Sifr Data](https://www.sifrdata.com/cryptocurrency-correlation-matrix/). \n",
    "There are differences because:\n",
    " - we don't calculate [volume-weighted average daily prices](https://www.investopedia.com/terms/v/vwap.asp)\n",
    " - different time period (hourly and daily),\n",
    " - different data source (Coinbase and Poloniex).\n",
    " \n",
    "**Observations**\n",
    "- BTC and ETH have moderate positive relationship,\n",
    "- LTC and ETH have strong positive relationship."
   ]
  },
  {
   "cell_type": "code",
   "execution_count": 11,
   "metadata": {},
   "outputs": [
    {
     "data": {
      "text/plain": [
       "<matplotlib.axes._subplots.AxesSubplot at 0x1a1f926320>"
      ]
     },
     "execution_count": 11,
     "metadata": {},
     "output_type": "execute_result"
    },
    {
     "data": {
      "image/png": "[encoded data removed]",
      "text/plain": [
       "<Figure size 720x720 with 2 Axes>"
      ]
     },
     "metadata": {
      "needs_background": "light"
     },
     "output_type": "display_data"
    }
   ],
   "source": [
    "import seaborn as sns\n",
    "import matplotlib.pyplot as plt\n",
    "\n",
    "# Compute the correlation matrix\n",
    "corr = df_change.corr()\n",
    "\n",
    "# Generate a mask for the upper triangle\n",
    "mask = np.zeros_like(corr, dtype=np.bool)\n",
    "mask[np.triu_indices_from(mask)] = True\n",
    "\n",
    "# Set up the matplotlib figure\n",
    "f, ax = plt.subplots(figsize=(10, 10))\n",
    "\n",
    "# Draw the heatmap with the mask and correct aspect ratio\n",
    "sns.heatmap(corr, annot=True, fmt = '.4f', mask=mask, center=0, square=True, linewidths=.5)"
   ]
  },
  {
   "cell_type": "markdown",
   "metadata": {},
   "source": [
    "## Conclusion\n",
    "\n",
    "We showed how to calculate log returns from raw prices with a practical example. \n",
    "This way we normalized prices, which simplifies further analysis. \n",
    "We also showed how to estimate parameters for normal and log-normal distributions."
   ]
  },
  {
   "cell_type": "code",
   "execution_count": null,
   "metadata": {},
   "outputs": [],
   "source": []
  }
 ],
 "metadata": {
  "kernelspec": {
   "display_name": "Python 3",
   "language": "python",
   "name": "python3"
  },
  "language_info": {
   "codemirror_mode": {
    "name": "ipython",
    "version": 3
   },
   "file_extension": ".py",
   "mimetype": "text/x-python",
   "name": "python",
   "nbconvert_exporter": "python",
   "pygments_lexer": "ipython3",
   "version": "3.7.3"
  }
 },
 "nbformat": 4,
 "nbformat_minor": 2
}
